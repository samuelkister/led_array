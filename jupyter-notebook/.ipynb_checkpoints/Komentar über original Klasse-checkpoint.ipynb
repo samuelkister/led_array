{
 "cells": [
  {
   "cell_type": "code",
   "execution_count": 10,
   "metadata": {},
   "outputs": [
    {
     "ename": "ModuleNotFoundError",
     "evalue": "No module named 'serial'",
     "output_type": "error",
     "traceback": [
      "\u001b[0;31m---------------------------------------------------------------------------\u001b[0m",
      "\u001b[0;31mModuleNotFoundError\u001b[0m                       Traceback (most recent call last)",
      "\u001b[0;32m<ipython-input-10-af461cea309c>\u001b[0m in \u001b[0;36m<module>\u001b[0;34m\u001b[0m\n\u001b[1;32m      1\u001b[0m \u001b[0;32mimport\u001b[0m \u001b[0msys\u001b[0m\u001b[0;34m\u001b[0m\u001b[0;34m\u001b[0m\u001b[0m\n\u001b[0;32m----> 2\u001b[0;31m \u001b[0;32mimport\u001b[0m \u001b[0mserial\u001b[0m\u001b[0;34m\u001b[0m\u001b[0;34m\u001b[0m\u001b[0m\n\u001b[0m\u001b[1;32m      3\u001b[0m \u001b[0;34m\u001b[0m\u001b[0m\n\u001b[1;32m      4\u001b[0m \u001b[0;31m# ToDo: Erweiterung verschiedener Farbräume\u001b[0m\u001b[0;34m\u001b[0m\u001b[0;34m\u001b[0m\u001b[0;34m\u001b[0m\u001b[0m\n\u001b[1;32m      5\u001b[0m \u001b[0;31m# ToDo: Entkopplung Matrix und Schnittstelle\u001b[0m\u001b[0;34m\u001b[0m\u001b[0;34m\u001b[0m\u001b[0;34m\u001b[0m\u001b[0m\n",
      "\u001b[0;31mModuleNotFoundError\u001b[0m: No module named 'serial'"
     ]
    }
   ],
   "source": [
    "import sys\n",
    "import serial\n",
    "\n",
    "# ToDo: Erweiterung verschiedener Farbräume\n",
    "# ToDo: Entkopplung Matrix und Schnittstelle\n",
    "#       Aktuell wird ein Schnittstellen-Objekt vom Objekt der Klasse RGBBasis aufgerufen. So ist es z.B. nicht möglich\n",
    "#       an das gleiche Schnittstellen-Objekt verschiedene Objekte der RGBBasis zu schicken.\n",
    "# ToDo: Grösse der Matrix frei wählbar, nicht auf 8 x 8 fixiert\n",
    "# ToDo: Ausgabe png-Datei ergänzen\n",
    "# ToDo: Datenkapselung mit get und set umsetzen\n",
    "\n",
    "\n",
    "class RGBBasis:\n",
    "    \"\"\"\n",
    "    Basisklasse RGB-Matrix\n",
    "    \"\"\"\n"
   ]
  },
  {
   "cell_type": "markdown",
   "metadata": {},
   "source": [
    "## RGBBasis.\\_\\_init__()\n",
    "- Zu Parameter `port`:\n",
    " - Ist dieses Parameter nötig so mein Objekt funktionnal ist? **JA**\n",
    " - Kann ich ein Vorgabewert haben der **immer** funktionniert? **NEIN**, die COM Nummer werden vom Betriebsystem vorgeben und sind nicht vorsehbar\n",
    " - Kann meine Klasse über anderen Wege das COM Nummer herausfinden? **NEIN**, im schliemsten Fall kann ich mehrere LED-Array am Komputer angehängt haben, ohne möglichkeit einer auszuwählen.\n",
    " - **Dieses Parameter-Wert muss vom Benutzer gegeben werden, er kann kein Vorgabewert haben.**\n",
    "\n",
    "\n",
    "- Bei `default_color=(0, 0, 0)` ist der Vorgabewert ein Tuple (nicht änderbare Liste), in die Dokumentation steht aber `list, [R, G, B]` (änderbare Liste), was sich wiederspricht\n",
    "\n",
    "\n",
    "- `self.init_rgb_matrix()` muss `self.rgb_matrix` selber ändern, nicht eine \"leere\" Matrix zurückgeben. Oder dann in `self.get_default_rgb_matrix()` umbennant werden. Oder noch besser und flexibler und wiederverwendbarer `self.get_filled_matrix(color)` sein.\n",
    "\n",
    "\n",
    "- `self.rgb_bytestream = self.init_rgb_bytestream()`ist unnötig. In **Pyton** muss kein Speicherplatz reserviert werden. Der Bytestream kann *on the fly* generiert werden. Er wird auch nicht von mehrere Funktionnen gebraucht."
   ]
  },
  {
   "cell_type": "code",
   "execution_count": 11,
   "metadata": {},
   "outputs": [],
   "source": [
    "    def __init__(self, port='', default_color=(0, 0, 0)):\n",
    "        \"\"\"\n",
    "        RGBBasis Objekt Konstruktor\n",
    "        :param port: string, COM-Port -> siehe Geräte-Manager\n",
    "        :param default_color: list, [R, G, B] -> [0..255, 0..255, 0..255]\n",
    "        https://de.wikipedia.org/wiki/RGB-Farbraum\n",
    "\n",
    "        Attribut: \"rgb_matrix[zeile][spalte]\" wird mit default_color initialisiert (zeile = 0..7, spalte = 0..7)\n",
    "        \"\"\"\n",
    "        self.port = port\n",
    "        self.default_color = default_color\n",
    "        self.interface = UART2FPGA(enable=True, port=self.port)  # Windows 'COM.. => siehe Geräte Manager'\n",
    "        self.rgb_matrix = self.init_rgb_matrix()\n",
    "        self.rgb_bytestream = self.init_rgb_bytestream()"
   ]
  },
  {
   "cell_type": "markdown",
   "metadata": {},
   "source": [
    "## RGBBasis.init_rgb_matrix()\n",
    "- Der Name passt nicht mit die Funktion. Es währe besser mit `get_default_matrix()`\n",
    "\n",
    "\n",
    "- `range(Startwert, Endwert, Schritt)` hat *Startwert=0* und *Schritt=1* als Vorgabewerten. `range(8)`reicht.\n",
    "\n",
    "\n",
    "- `led.extend([rgb])` macht folgendes:\n",
    "  - `[rgb]` erzuegt eine neue Liste mit die Liste *rgb* als Inhalt (*\\[ [ 10, 20, 30) ] ] zum Beispiel*)\n",
    "  - `led.extend(...)̀  fügt jedes Element von der oben erzeugte Liste (nur ein Element gross...) am Ende der *led*-Liste ein\n",
    "  - **Um nur ein Element am Ende eine Liste zuzufügen gibt es die Funktion `liste.append(element)`**\n",
    "\n",
    "\n",
    "- Um Liste zu initialisieren gibt es *list comprehension* die viel kompakter ist (und mehr *Pythonish*). Es muss aber aufgepasst werden, den bei der  `*`-Operator werden die *Elemente*, wenn nicht von eine einfachen Typ (wie *int* z.B.), nicht kopiert, nur referenziert (es ist immer den gleichen Element).\n",
    "\n",
    "\n",
    "- *Breite* und *Höhe* Können als parameter gegeben werden."
   ]
  },
  {
   "cell_type": "code",
   "execution_count": 12,
   "metadata": {},
   "outputs": [],
   "source": [
    "    def init_rgb_matrix(self):\n",
    "        \"\"\"\n",
    "        Initialisierung der 8 x 8 x 3 Matrix für die vereinfachte Farbzuweisung.\n",
    "        Dimension 8 x 8 ist fix definiert!\n",
    "        \"\"\"\n",
    "        rgb_matrix = []\n",
    "        for i in range(0, 8, 1):\n",
    "            led = []\n",
    "            for j in range(0, 8, 1):\n",
    "                rgb = self.default_color\n",
    "                led.extend([rgb])\n",
    "            rgb_matrix.extend([led])\n",
    "        return rgb_matrix"
   ]
  },
  {
   "cell_type": "markdown",
   "metadata": {},
   "source": [
    "## RGBBasis.init_rgb_matrix() neu geschrieben\n",
    "- `list[:]` macht ein *slice* von die Liste *list* von Start bis Ende (Vorgabenwerte). Es erzeugt eine einfache Kopie von der Liste. **ACHTUNG:** die Unterelemente der Liste werden nicht kopiert wenn sie änderbar (*mutable*, wie Listen z.B.) sind. Sie werden nur neu referenziert.\n",
    "\n",
    "\n",
    "- `deepcopy()` macht die gleiche Kopie, aber bis zum tiefstem Unterelement.\n",
    "\n",
    "\n",
    "- Die zwei Codezeilen könnten in eine Zeile geschrieben sein, es ist jedoch lesbarar so.\n",
    "\n",
    "\n",
    "- Um kompatible zu bleiben, wir trodzdem die rgb_matrix zurückgegeben"
   ]
  },
  {
   "cell_type": "code",
   "execution_count": 13,
   "metadata": {},
   "outputs": [],
   "source": [
    "    from copy import deepcopy\n",
    "    def init_rgb_matrix(self, height=8, width=8):\n",
    "        \"\"\"\n",
    "        Initialisierung der Matrix mit alle Zellen=self.default_color.\n",
    "        \"\"\"\n",
    "        row = [self.default_color[:] for _ in range(width)]\n",
    "        rgb_matrix = [deepcopy(row) for _ in range(height)]\n",
    "        \n",
    "        self.rgb_matrix = rgb_matrix\n",
    "\n",
    "        return rgb_matrix"
   ]
  },
  {
   "cell_type": "markdown",
   "metadata": {},
   "source": [
    "## RGBBasis.init_rgb_bytestream()\n",
    "- Es ist nicht nötig in Python Speicher zu \"reservieren\". Diese Liste kann \"on the fly\" generiert werden.\n",
    "\n",
    "\n",
    "- Eine schönere Variante wäre `return [0]*(8*8*3)` gewesen"
   ]
  },
  {
   "cell_type": "code",
   "execution_count": 14,
   "metadata": {},
   "outputs": [],
   "source": [
    "    @staticmethod\n",
    "    def init_rgb_bytestream():\n",
    "        \"\"\"\n",
    "        Initialisierung des 8 x 8 x 3 Bytestreams (Snake-Line), welcher für die Übertragung an die RGB-Matrix (HW)\n",
    "        Dimension 8 x 8 ist fix definiert!\n",
    "        https://www.led-genial.de/DIGI-DOT-Panel-8x8-HD-mit-64-x-Digital-LEDs\n",
    "        \"\"\"\n",
    "        rgb_bytestream = []\n",
    "        for i in range(0, (8 * 8 * 3), 1):\n",
    "            rgb_bytestream.extend([0])\n",
    "        return rgb_bytestream  "
   ]
  },
  {
   "cell_type": "markdown",
   "metadata": {},
   "source": [
    "## RGBBasis.rgb_matrix_to_rgb_bytestream()\n",
    "- Wieso muss hier ein Bytestream generiert werden? Wenn man die sende Funktion (`UART2FPGA.write(self, bytestream`) anschaut, sieht man das sie wieder Daten herausfinden muss (alles wieder in Zeile und Spalten trennen).\n",
    "\n",
    "\n",
    "- Die Daten werden in 'Snake' umgewandelt (eine Zeile von Links nah Rechts, die nächste von Rechts nach Links usw.), und die Reihenfolge von Rot, Grün und Blau in Grün, Rot, Blau umgewandelt. Das kann auch mit erhalt der Struktur gemacht werden.\n",
    "\n",
    "\n",
    "- Bei der Bearbeitung wird ein gleich ausehendes Code 6 Mal wiederholt, mit Komplexe Index verrechnung!\n",
    "\n",
    "\n",
    "- Die Kommentar von die Frben sind Falsch !\n",
    "\n",
    "\n",
    "- Das Slice `list[::-1]` das eine **NEUE** umgekehrte Liste generiert wird 3 mal auf die **gleiche Liste** ausgeführt.\n",
    "\n",
    "\n",
    "- `(i % 2)` gibt 0 oder 1 zurück. 0 wird als Fals gesehen, alle andere Zahlen als True. `if not (i % 2):` ist genügend.\n",
    "\n",
    "\n",
    "- Die RGB Matrix hat keine Ahnung (und muss nie haben) wie und in welche Reihenfolge und Form die Daten zum LED-Modul gesendet werden. Das soll ein Treiber überlassen werden."
   ]
  },
  {
   "cell_type": "code",
   "execution_count": 15,
   "metadata": {},
   "outputs": [],
   "source": [
    "    def rgb_matrix_to_rgb_bytestream(self):\n",
    "        \"\"\"\n",
    "        Transformation der Matrix-Darstellung in die entsprechende Bytestream-Darstellung (Datenstrom).\n",
    "        \"\"\"\n",
    "        for i in range(0, 8, 1):\n",
    "            for j in range(0, 8, 1):\n",
    "                if (i % 2) == 0:\n",
    "                    self.rgb_bytestream[(i * 8 * 3) + (j * 3) + 0] = self.rgb_matrix[i][j][1]  # ROT\n",
    "                    self.rgb_bytestream[(i * 8 * 3) + (j * 3) + 1] = self.rgb_matrix[i][j][0]  # GRUEN\n",
    "                    self.rgb_bytestream[(i * 8 * 3) + (j * 3) + 2] = self.rgb_matrix[i][j][2]  # BLAU\n",
    "                else:\n",
    "                    self.rgb_bytestream[(i * 8 * 3) + (j * 3) + 0] = ((self.rgb_matrix[i])[::-1])[j][1]  # ROT\n",
    "                    self.rgb_bytestream[(i * 8 * 3) + (j * 3) + 1] = ((self.rgb_matrix[i])[::-1])[j][0]  # GRUEN\n",
    "                    self.rgb_bytestream[(i * 8 * 3) + (j * 3) + 2] = ((self.rgb_matrix[i])[::-1])[j][2]  # BLAU\n",
    "\n",
    "   "
   ]
  },
  {
   "cell_type": "markdown",
   "metadata": {},
   "source": [
    "## RGBBasis.rgb_matrix_to_rgb_bytestream() neu geschrieben\n",
    "- `zip(['a', 'b', 'c'], [1, 2, 3])` generiert eine Mischung aus jeder Elemente von Liste A mit der gleichplatziertes Elemente von Liste B => ('a', 1), ('b', 2), ('c', 3), bis eine Liste leer ist\n",
    "\n",
    "\n",
    "- `itertool.cycle(list)` wiedergibt jeder Element von *list* und fängt wieder am Anfang wenn alle Elemente durh sind."
   ]
  },
  {
   "cell_type": "code",
   "execution_count": 16,
   "metadata": {},
   "outputs": [],
   "source": [
    "    def rgb_matrix_to_rgb_bytestream(self):\n",
    "        \"\"\"\n",
    "        Transformation der Matrix-Darstellung in die entsprechende Bytestream-Darstellung (Datenstrom).\n",
    "        \"\"\"\n",
    "        self.rgb_bytestream = [] # Leere Matrix-Liste herstellen\n",
    "        for zaehler, zeile in zip(itertools.cycle(Range(8), Range(7, -1, -1)), self.rgb_matrix):\n",
    "            byte_zeile = [] # Neue Zeile-Liste herstellen\n",
    "            \n",
    "            # Und am Ende der Marix-Liste zufügen\n",
    "            # Dass kKann auch nach die For Schlaufe gemacht werden\n",
    "            rgb_bytestream.append(byte_zeile) \n",
    "            \n",
    "            # Und die Zeile mit die LED-Farben füllen\n",
    "            # Bei der erste Schlaufe ist zaehler=Range(8) -> [0, 1, 2, 3, 4, 5, 6, 7]\n",
    "            # Bei der nächte Schlaufe ist zaehler=Range(7, -1, -1) -> [7, 6, 5, 4, 3, 2, 1, 0]\n",
    "            for spalte in zaehler:\n",
    "                r, g, b = zeile[spalte] # das ist \"unboxing\": die Werte der Liste werden zu die Einzelvariable vergeben\n",
    "                byte_zeile.append((g, r, b)) # Und eine neu Tuple(oder Liste, geht auch) zu die Zeile zufügen\n"
   ]
  },
  {
   "cell_type": "markdown",
   "metadata": {},
   "source": [
    "Da habe ich nichts zu sagen :-)"
   ]
  },
  {
   "cell_type": "code",
   "execution_count": 17,
   "metadata": {},
   "outputs": [],
   "source": [
    "    def open_interface(self):\n",
    "        \"\"\"\n",
    "        Öffnen der entsprechenden Schnittstelle, z.B. UART\n",
    "        \"\"\"\n",
    "        self.interface.open()\n",
    "\n",
    "    def close_interface(self):\n",
    "        \"\"\"\n",
    "        Schliessen der entsprechenden Schnittstelle, z.B. UART\n",
    "        \"\"\"\n",
    "        self.interface.close()"
   ]
  },
  {
   "cell_type": "markdown",
   "metadata": {},
   "source": [
    "## RGBBasis.write2rgb()\n",
    "- `self.rgb_bytestream` wird nur hier benutzt. `self.rgb_matrix_to_rgb_bytestream()` könnte es als Rückgabewert schreiben, ohne über eine Instanz-Variable zu gehen"
   ]
  },
  {
   "cell_type": "code",
   "execution_count": 18,
   "metadata": {},
   "outputs": [],
   "source": [
    "    def write2rgb(self):\n",
    "        \"\"\"\n",
    "        Entsprechende Matrix auf der RGB-Matrix darstellen.\n",
    "        1. Transformation\n",
    "        2. Werte auf Schnittstelle schreiben\n",
    "        \"\"\"\n",
    "        self.rgb_matrix_to_rgb_bytestream()\n",
    "        self.interface.write(self.rgb_bytestream)"
   ]
  },
  {
   "cell_type": "markdown",
   "metadata": {},
   "source": [
    "## RGBBasis.\\_\\_str__ und RGBBasis.\\_\\_repr__\n",
    "- `__str__()` gibt eine \"human readable\" Darstellung der Objekt zurück\n",
    "\n",
    "\n",
    "- `__repr__()` gibt eine \"offizielle\" Darstellung zurück. Normalerweise kann diese String als Parameter an `eval()` gegeben werden und diese bearbeitet sie als währe es ein Python Befehl.\n",
    "\n",
    "\n",
    "- Im Fall des RGBBasis Klasse, könnten beide die gleiche Zeichenkette zurückgeben, ohne das es Schwirigkeit gibt für der Benutzer deise zu verstehen.\n",
    "\n",
    "\n",
    "- in `default_color={:}` macht der **:** kein Sinn: er soll ein formatierer einführen, da ist aber keiner. "
   ]
  },
  {
   "cell_type": "code",
   "execution_count": 19,
   "metadata": {},
   "outputs": [],
   "source": [
    "    def __str__(self):\n",
    "        \"\"\"\n",
    "        Klartextausgabe der Klasseneigenschaften\n",
    "        \"\"\"\n",
    "        return 'RGBBasis(Port={}'.format(self.port) + ', default_color={:}'.format(self.default_color) + ')'\n",
    "\n",
    "    def __repr__(self):\n",
    "        return 'RGBBasis(port=\\'{}\\''.format(self.port) + ', default_color={:}'.format(self.default_color) + ')'"
   ]
  },
  {
   "cell_type": "markdown",
   "metadata": {},
   "source": [
    "## UART2FPGA.\\_\\_init__()\n",
    "- wofür wird self.enable benutzt? Es wird nur getestet, nie geschrieben. Was passiert wenn folgendes Code ausgeführt wird ?\n",
    " - `uart = UART2FPGA(enable=False)\n",
    "uart.open()\n",
    "uart.enable = True\n",
    "uart.write(b'Some bytes')\n",
    "uart.close()`\n",
    " - Die Schnitstelle wird nicht geöffnet, die aufrufendes Funktion weiss es aber nicht (Feedback durch `print()`!!!!! **Ich lese nur die Fehlerausgabe (Exceptions) meines Program. Ich schaue sonnst auf der LED-Matrix, ob was passiert.**)\n",
    " - `uart.write()` versucht etwas auf die Schnitstelle zu shreiben (`enable == True`) ohne zu prüfen ob es je geöffnet worden ist, und beendet mein Programm.\n",
    "\n",
    "\n",
    "- in `port='COM43` woher kommt das COM Port Nummer 43? Wenn es ein Beispeil sein soll, muss es in die Kommentare erscheinen. Wenn der Parameter obligatorisch (siehe Kommentar zu `RGBBasis.__init__()`)\n",
    "\n",
    "\n",
    "- `self.instanz`. Ja, aber *Instanz* von **was**? `self.serial_interface` z.B."
   ]
  },
  {
   "cell_type": "code",
   "execution_count": null,
   "metadata": {},
   "outputs": [],
   "source": [
    "class UART2FPGA:\n",
    "    \"\"\"\n",
    "    Klasse für die Beschreibung der Schnittstelle mittels UART\n",
    "    https://de.wikipedia.org/wiki/Universal_Asynchronous_Receiver_Transmitter\n",
    "    \"\"\"\n",
    "    def __init__(self, enable=True, port='COM43'):\n",
    "        \"\"\"\n",
    "        UART2FPGA Objekt Konstruktor\n",
    "        :param enable: boolean, Schnittstelle aktivieren?\n",
    "        :param port: string, COM-Port -> siehe Geräte-Manager\n",
    "        \"\"\"\n",
    "        self.enable = enable\n",
    "        self.port = port\n",
    "        self.instanz = None"
   ]
  },
  {
   "cell_type": "markdown",
   "metadata": {},
   "source": [
    "## UART2FPGA.open()\n",
    "- Nur als Spass, wenn `self.port == None` (wird in `__init__` nicht verweigert), wird die Schnitstelle nicht geöffnet, und gibt eine Fehler heraus bei `write()`.\n",
    ">The port is immediately opened on object creation, when a port is given. It is not opened when port is `None` and a successive call to `open()` is required.\n",
    "\n",
    "- Die Fehler mit `try` und `except` zu behandeln ist super. Was kann aber dieses Objekt schlaues machen wenn eine vorkommt? *SICHER NICHT DIESE AUSDRUCKEN UND **DAS PROGRAMM BEEDEN***(`sys.exit()`).\n",
    " - Ein Program hat normalerweise 2 Ausgabe-Ströme:\n",
    "   - stdout : alle `print()` ohne weitere Info werden darauf geschrieben. Für \"Benutzer-Austauch\" gemeint\n",
    "   - errout : **alle** Fehlermeldungen (aussert infrmativ) sollten darauf geschrieben werden. Der Benutzer sieht sie nicht unbedingt (oder sogar in eine andere Frbe, wie Rot z.B), sie können aber von eine Aufrufendes Programm gelesen werden um zu wisen was passiert ist.\n",
    " - Wenn die Fehler-Meldungen durch `print()` auf *stdout* umgeleitet werden, wirde die Informtion das es sich um eiene Fehler handelt **verloren**\n",
    " - `sys.exit()` nimt hat als Parameter das Ergebnis des Program.\n",
    "   - **> 0** -> Alles gut gelaufen, mit folgende Info (Parameter-Wert)\n",
    "   - **= 0** -> Alles gut gelaufen, nicht weiteres zu sagen\n",
    "   - **< 0** -> Es ist eine Fehler aufegtreten, mit folgendes Code (Parameter-Wert)\n",
    " - Ohne Parameter gibt es 0 heraus, so **alles gut gelaufen**!!!! Gerade das **Gegenteil** von was geschehen ist.\n",
    " - Nehmen wir an, ich binde dieses Objekt in eine Grafische Oberfläche. Wenn eine Kommunikationsfehler auftritt, stürtzt mein Programm einfach ab, ohne Informtion am benutzer oder mögliche weitere Massnahmen. Was eine Frechheit!!!!\n",
    " \n",
    "- Es gibt zwei Möglichkeiten:\n",
    "  - gar nichts machen, die *Exception* wird an die Aufrufende Funktionen weitergegeben, bis eine diese bearbeitet, oder der Program abstürtzt (aber auf eine *sauberes* Weg)\n",
    "  - Eine neue *persönliche* Exception generieren (z.B. \"Fehler bei Kommunikation mit die Schnitstelle\") und diese senden."
   ]
  },
  {
   "cell_type": "code",
   "execution_count": null,
   "metadata": {},
   "outputs": [],
   "source": [
    "    def open(self):\n",
    "        \"\"\"\n",
    "        Oeffne UART mit der COM - Bezeichnung\n",
    "        \"\"\"\n",
    "        if self.enable:\n",
    "            try:\n",
    "                self.instanz = serial.Serial(self.port, 921600, timeout=0, parity=serial.PARITY_NONE)\n",
    "            except Exception as e:\n",
    "                print('uart_open', e)\n",
    "                sys.exit()\n",
    "        else:\n",
    "            print('UART_ENABLE == False')"
   ]
  },
  {
   "cell_type": "markdown",
   "metadata": {},
   "source": [
    "## UART2FPGA.write()\n",
    "- wenn `self.enable` nicht gesetzt ist oder die Länge des *bytestream* nicht stimmt, passiert einfach nichts, ohne das die aufrufende Funktion etwas davon mitbekommt.\n",
    "\n",
    "- es wird 3 mal `uart_string += '{:02X}'.format(bytestream[(i * 8 * 3) + (j * 3) + ...])` benutzt. Eine dritte Schlaufe ist hier nötig\n",
    "\n",
    "- Variabelname wie *i* und *j* müssen vermeidet werden, in besonderen wenn sie was *physicalisches* einthalten. *zeile* und *spalte* hätten hier mehr bedeutung und vereinfachen das lesen.\n",
    "\n",
    "- `range(0, 8, 1)` <=> `range(8)`\n",
    "\n",
    "- *i* wird **immer** durch (8\\*3) multipliziert. `range(8*8*3, 8*3)` vermeidet das mehrmals multiplizieren. `range(8*3, 3)` fur *j* das selbe\n",
    "\n",
    "- `string` addieren fürt zu erzeugen eine neue Kopie der string jedes mal. Efizienter ist alle einzelne Teile in eine Liste zuzufügen und am Schluss `uart_string = ''.join(liste)` zu benutzen. Es wird eine Zeichenkette generiert aus die zusammenfügung jeder Element der Liste getrennt durch die aufrufende Zeichenkette (`''` -> ohne Trennung, `';'.join(['1', '2', '3'])` -> `'1;2;3'`)\n"
   ]
  },
  {
   "cell_type": "code",
   "execution_count": 20,
   "metadata": {},
   "outputs": [],
   "source": [
    "    def write(self, bytestream):\n",
    "        \"\"\"\n",
    "        Schreiben auf den UART Kanal\n",
    "        \"\"\"\n",
    "        if self.enable:\n",
    "            try:\n",
    "                if len(bytestream) == 8 * 8 * 3:\n",
    "                    for i in range(0, 8, 1):\n",
    "                        uart_string = '<{:02x}'.format(i + 1)  # https://pyformat.info/\n",
    "                        for j in range(0, 8, 1):\n",
    "                            uart_string += '{:02X}'.format(bytestream[(i * 8 * 3) + (j * 3) + 0])\n",
    "                            uart_string += '{:02X}'.format(bytestream[(i * 8 * 3) + (j * 3) + 1])\n",
    "                            uart_string += '{:02X}'.format(bytestream[(i * 8 * 3) + (j * 3) + 2])\n",
    "                        uart_string += '>'\n",
    "                        self.instanz.write(uart_string.encode())  # write a string\n",
    "            except Exception as e:\n",
    "                print('uart_write', e)\n",
    "                sys.exit()\n",
    "\n",
    "    def close(self):\n",
    "        \"\"\"\n",
    "        Schliessen des UART Kanals.\n",
    "        \"\"\"\n",
    "        if self.enable:\n",
    "            try:\n",
    "                self.instanz.close()\n",
    "            except Exception as e:\n",
    "                print('uart_close', e)\n",
    "                sys.exit()\n",
    "\n",
    "    def __str__(self):\n",
    "        \"\"\"\n",
    "        Klartextausgabe der Klasseneigenschaften\n",
    "        \"\"\"\n",
    "        return 'UART2FPGA(enable={}'.format(self.enable) + ', port={}'.format(self.port) + ')'\n",
    "\n",
    "    def __repr__(self):\n",
    "        return 'UART2FPGA(enable={}'.format(self.enable) + ', port=\\'{}\\''.format(self.port) + ')'"
   ]
  }
 ],
 "metadata": {
  "kernelspec": {
   "display_name": "Python 3",
   "language": "python",
   "name": "python3"
  },
  "language_info": {
   "codemirror_mode": {
    "name": "ipython",
    "version": 3
   },
   "file_extension": ".py",
   "mimetype": "text/x-python",
   "name": "python",
   "nbconvert_exporter": "python",
   "pygments_lexer": "ipython3",
   "version": "3.8.2"
  }
 },
 "nbformat": 4,
 "nbformat_minor": 4
}
